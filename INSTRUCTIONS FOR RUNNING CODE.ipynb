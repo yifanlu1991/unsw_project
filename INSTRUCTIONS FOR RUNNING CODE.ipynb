{
 "cells": [
  {
   "cell_type": "markdown",
   "metadata": {},
   "source": [
    "# INSTRUCTIONS FOR RUNNING THE CODE"
   ]
  },
  {
   "cell_type": "markdown",
   "metadata": {},
   "source": [
    "The following six scripts have been provided in the GitHub repository:\n",
    "\n",
    " - eda_final.ipynb: script for the preliminary exploration of the data and includes the visualisations used in the EDA section of the report\n",
    " - bayesian_optimisation_nosolar_final.ipynb: bayesian optimisation script (no solar generation variable)\n",
    " - bayesian_optimisation_nosolar_final.ipynb: bayesian optimisation script (including the solar generation variable)\n",
    " - model_nosolar_final.ipnyb: LSTM model without the solar generation variable - uses the hyperparameters recommended by the bayesian optimisation\n",
    " - model_withsolar_final.ipnyb: LSTM model with the solar generation variable - uses the hyperparameters recommended by the bayesian optimisation\n",
    " - analysis.ipynb: compares the prediction outputs from the models and calculates various metrics used in the analysis/discussion sections of the report"
   ]
  },
  {
   "cell_type": "markdown",
   "metadata": {},
   "source": [
    "In order to successfully run the scripts above, perform a git pull to retrieve all the files within the repository. "
   ]
  },
  {
   "cell_type": "markdown",
   "metadata": {},
   "source": [
    "Once all the files have been retrieved, double check to ensure that all files are present and in the same folder (the scripts will not work if the data files are not in the same folder as the .ipynb script files). "
   ]
  },
  {
   "cell_type": "markdown",
   "metadata": {},
   "source": [
    "Run the scripts with preferred IDE."
   ]
  },
  {
   "cell_type": "markdown",
   "metadata": {},
   "source": [
    "More specific line-by-line commentary has been provided within each script. Please reference this for further context regarding how each script has been built."
   ]
  }
 ],
 "metadata": {
  "kernelspec": {
   "display_name": "Python 3",
   "language": "python",
   "name": "python3"
  },
  "language_info": {
   "codemirror_mode": {
    "name": "ipython",
    "version": 3
   },
   "file_extension": ".py",
   "mimetype": "text/x-python",
   "name": "python",
   "nbconvert_exporter": "python",
   "pygments_lexer": "ipython3",
   "version": "3.8.5"
  }
 },
 "nbformat": 4,
 "nbformat_minor": 4
}
